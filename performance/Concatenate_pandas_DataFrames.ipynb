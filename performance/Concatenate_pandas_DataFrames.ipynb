{
 "cells": [
  {
   "cell_type": "markdown",
   "metadata": {},
   "source": [
    "# Abstract\n",
    "\n",
    "**Objective**: Compare the fastest way to concatenate pandas DataFrames.\n",
    "\n",
    "**Methods**: Use the magic command `%timeit` 3 times.\n",
    "\n",
    "**Conclusion**: Based on the average time, using a generator function and then applying `pandas.concat` is the same as adding DataFrames to a list and then applying `pandas.concat`. Applying `pandas.concat` inside a `for` loop is the slowest."
   ]
  },
  {
   "cell_type": "markdown",
   "metadata": {},
   "source": [
    "# Initialize"
   ]
  },
  {
   "cell_type": "code",
   "execution_count": 1,
   "metadata": {},
   "outputs": [],
   "source": [
    "import sys\n",
    "import pandas as pd"
   ]
  },
  {
   "cell_type": "code",
   "execution_count": 2,
   "metadata": {},
   "outputs": [
    {
     "name": "stdout",
     "output_type": "stream",
     "text": [
      "Python version\n",
      "3.6.2 |Anaconda custom (64-bit)| (default, Jul 20 2017, 13:51:32) \n",
      "[GCC 4.4.7 20120313 (Red Hat 4.4.7-1)]\n",
      "---------------\n",
      "pandas version\n",
      "0.20.3\n"
     ]
    }
   ],
   "source": [
    "print('Python version')\n",
    "print(sys.version)\n",
    "print('---------------')\n",
    "print('pandas version')\n",
    "print(pd.__version__)"
   ]
  },
  {
   "cell_type": "markdown",
   "metadata": {},
   "source": [
    "# Define functions to test"
   ]
  },
  {
   "cell_type": "code",
   "execution_count": 3,
   "metadata": {},
   "outputs": [],
   "source": [
    "def random_df(seed, size, low, high):\n",
    "    return pd.DataFrame(random_array(seed, size, low, high))\n",
    "\n",
    "def random_array(seed, size, low, high):\n",
    "    return (pd\n",
    "            .np\n",
    "            .random\n",
    "            .RandomState(seed=seed)\n",
    "            .randint(low=low,\n",
    "                     high=high,\n",
    "                     size=size))\n",
    "\n",
    "def loop_concat_df(N, size, low, high):\n",
    "    df = pd.DataFrame()\n",
    "    for ii in range(N):\n",
    "        df = pd.concat([df, random_df(ii, size, low, high)])\n",
    "    return df\n",
    "\n",
    "def loop_concat_list(N, size, low, high):\n",
    "    df_list = []\n",
    "    for ii in range(N):\n",
    "        df_list.append(random_df(ii, size, low, high))\n",
    "    return pd.concat(df_list)\n",
    "\n",
    "def loop_generator(N, size, low, high):\n",
    "    for ii in range(N):\n",
    "        yield random_df(ii, size, low, high)\n",
    "\n",
    "def generator_concat(N, size, low, high):\n",
    "    return pd.concat(loop_generator(N, size, low, high))"
   ]
  },
  {
   "cell_type": "markdown",
   "metadata": {},
   "source": [
    "## Check if functions return the same value"
   ]
  },
  {
   "cell_type": "code",
   "execution_count": 4,
   "metadata": {},
   "outputs": [
    {
     "name": "stdout",
     "output_type": "stream",
     "text": [
      "`loop_concat_df` = `loop_concat_list` = `generator_concat`\n"
     ]
    }
   ],
   "source": [
    "N = 50  # number of dataframes\n",
    "size = (10**2, 4)  # shape of each dataframe\n",
    "low = 0  # smallest number\n",
    "high = 10  # biggest number\n",
    "\n",
    "df1 = loop_concat_df(N, size, low, high)\n",
    "df2 = loop_concat_list(N, size, low, high)\n",
    "df3 = generator_concat(N, size, low, high)\n",
    "\n",
    "assert df1.equals(df2), '`loop_concat_df` and `loop_concat_list` are different'\n",
    "assert df1.equals(df3), '`loop_concat_df` and `generator_concat` are different'\n",
    "\n",
    "print('`loop_concat_df` = `loop_concat_list` = `generator_concat`')"
   ]
  },
  {
   "cell_type": "markdown",
   "metadata": {},
   "source": [
    "# Run tests"
   ]
  },
  {
   "cell_type": "code",
   "execution_count": 5,
   "metadata": {},
   "outputs": [
    {
     "name": "stdout",
     "output_type": "stream",
     "text": [
      "loop_concat_df:\n",
      "38 ms ± 2.41 ms per loop (mean ± std. dev. of 7 runs, 10 loops each)\n",
      "--------------------------------------------------------------\n",
      "loop_concat_list:\n",
      "12 ms ± 939 µs per loop (mean ± std. dev. of 7 runs, 100 loops each)\n",
      "--------------------------------------------------------------\n",
      "generator_concat:\n",
      "10.9 ms ± 656 µs per loop (mean ± std. dev. of 7 runs, 100 loops each)\n"
     ]
    }
   ],
   "source": [
    "print('loop_concat_df:')\n",
    "%timeit loop_concat_df(N, size, low, high)\n",
    "print('--------------------------------------------------------------')\n",
    "print('loop_concat_list:')\n",
    "%timeit loop_concat_list(N, size, low, high)\n",
    "print('--------------------------------------------------------------')\n",
    "print('generator_concat:')\n",
    "%timeit generator_concat(N, size, low, high)"
   ]
  },
  {
   "cell_type": "code",
   "execution_count": 6,
   "metadata": {},
   "outputs": [
    {
     "name": "stdout",
     "output_type": "stream",
     "text": [
      "loop_concat_df:\n",
      "30.8 ms ± 1.54 ms per loop (mean ± std. dev. of 7 runs, 10 loops each)\n",
      "--------------------------------------------------------------\n",
      "loop_concat_list:\n",
      "11.5 ms ± 943 µs per loop (mean ± std. dev. of 7 runs, 100 loops each)\n",
      "--------------------------------------------------------------\n",
      "generator_concat:\n",
      "11.7 ms ± 1.19 ms per loop (mean ± std. dev. of 7 runs, 100 loops each)\n"
     ]
    }
   ],
   "source": [
    "print('loop_concat_df:')\n",
    "%timeit loop_concat_df(N, size, low, high)\n",
    "print('--------------------------------------------------------------')\n",
    "print('loop_concat_list:')\n",
    "%timeit loop_concat_list(N, size, low, high)\n",
    "print('--------------------------------------------------------------')\n",
    "print('generator_concat:')\n",
    "%timeit generator_concat(N, size, low, high)"
   ]
  },
  {
   "cell_type": "code",
   "execution_count": 7,
   "metadata": {},
   "outputs": [
    {
     "name": "stdout",
     "output_type": "stream",
     "text": [
      "loop_concat_df:\n",
      "24.7 ms ± 102 µs per loop (mean ± std. dev. of 7 runs, 10 loops each)\n",
      "--------------------------------------------------------------\n",
      "loop_concat_list:\n",
      "8.56 ms ± 82.4 µs per loop (mean ± std. dev. of 7 runs, 100 loops each)\n",
      "--------------------------------------------------------------\n",
      "generator_concat:\n",
      "8.59 ms ± 39.1 µs per loop (mean ± std. dev. of 7 runs, 100 loops each)\n"
     ]
    }
   ],
   "source": [
    "print('loop_concat_df:')\n",
    "%timeit loop_concat_df(N, size, low, high)\n",
    "print('--------------------------------------------------------------')\n",
    "print('loop_concat_list:')\n",
    "%timeit loop_concat_list(N, size, low, high)\n",
    "print('--------------------------------------------------------------')\n",
    "print('generator_concat:')\n",
    "%timeit generator_concat(N, size, low, high)"
   ]
  }
 ],
 "metadata": {
  "kernelspec": {
   "display_name": "Python 3",
   "language": "python",
   "name": "python3"
  },
  "language_info": {
   "codemirror_mode": {
    "name": "ipython",
    "version": 3
   },
   "file_extension": ".py",
   "mimetype": "text/x-python",
   "name": "python",
   "nbconvert_exporter": "python",
   "pygments_lexer": "ipython3",
   "version": "3.6.2"
  }
 },
 "nbformat": 4,
 "nbformat_minor": 2
}
