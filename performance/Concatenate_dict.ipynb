{
 "cells": [
  {
   "cell_type": "markdown",
   "metadata": {},
   "source": [
    "# Abstract\n",
    "\n",
    "**Objective**: Find efficient and Pythonic way of merging an arbitrary number of dictionaries.\n",
    "\n",
    "**Methods**:\n",
    "- Follow the suggestions here: http://treyhunner.com/2016/02/how-to-merge-dictionaries-in-python/.\n",
    "- Define the functions, run unit tests and measure execution time\n",
    "\n",
    "**Conclusions**: Based on the execution time, the fastest to the slowest function is:\n",
    "1. `concat_dicts__update`\n",
    "1. `concat_dicts__dict_comprehension`\n",
    "1. `concat_dicts__concat_items_chain_from_iterable` & `concat_dicts__concat_items_chain`\n",
    "1. `concat_dicts__concat_items_sum`\n",
    "1. `concat_dicts__chainmap`\n",
    "\n",
    "One might say that this order is the same based on legibility or elegance."
   ]
  },
  {
   "cell_type": "markdown",
   "metadata": {},
   "source": [
    "# Initialize"
   ]
  },
  {
   "cell_type": "code",
   "execution_count": 1,
   "metadata": {
    "collapsed": true
   },
   "outputs": [],
   "source": [
    "import itertools\n",
    "from collections import ChainMap\n",
    "\n",
    "import matplotlib.pyplot as plt \n",
    "%matplotlib inline"
   ]
  },
  {
   "cell_type": "code",
   "execution_count": 2,
   "metadata": {
    "collapsed": true
   },
   "outputs": [],
   "source": [
    "plt.style.use('ggplot')"
   ]
  },
  {
   "cell_type": "markdown",
   "metadata": {},
   "source": [
    "# Define functions"
   ]
  },
  {
   "cell_type": "code",
   "execution_count": 3,
   "metadata": {},
   "outputs": [],
   "source": [
    "def concat_dicts__update(*d):\n",
    "    concatenated = {}\n",
    "    for dd in d:\n",
    "        concatenated.update(dd)\n",
    "    return concatenated\n",
    "\n",
    "def concat_dicts__dict_comprehension(*d):\n",
    "    return {kk: vv for dd in d for kk, vv in dd.items()}\n",
    "\n",
    "def concat_dicts__concat_items_sum(*d):\n",
    "    return dict(sum([list(dd.items()) for dd in d], []))\n",
    "\n",
    "def concat_dicts__concat_items_chain_from_iterable(*d):\n",
    "    return dict(itertools.chain.from_iterable([dd.items() for dd in d]))\n",
    "\n",
    "def concat_dicts__concat_items_chain(*d):\n",
    "    return dict(itertools.chain(*[dd.items() for dd in d]))\n",
    "\n",
    "def concat_dicts__chainmap(*d):\n",
    "    return dict(ChainMap(*d[::-1]))\n",
    "\n",
    "# All functions. The order is based on the timing result\n",
    "ALL_FUNCTIONS = (concat_dicts__update,\n",
    "                 concat_dicts__dict_comprehension,\n",
    "                 concat_dicts__concat_items_chain_from_iterable,\n",
    "                 concat_dicts__concat_items_chain,\n",
    "                 concat_dicts__concat_items_sum,\n",
    "                 concat_dicts__chainmap)"
   ]
  },
  {
   "cell_type": "markdown",
   "metadata": {},
   "source": [
    "# Run unit tests"
   ]
  },
  {
   "cell_type": "code",
   "execution_count": 4,
   "metadata": {},
   "outputs": [
    {
     "name": "stdout",
     "output_type": "stream",
     "text": [
      "Running tests...\n",
      "concat_dicts__update: OK!\n",
      "concat_dicts__dict_comprehension: OK!\n",
      "concat_dicts__concat_items_chain_from_iterable: OK!\n",
      "concat_dicts__concat_items_chain: OK!\n",
      "concat_dicts__concat_items_sum: OK!\n",
      "concat_dicts__chainmap: OK!\n"
     ]
    }
   ],
   "source": [
    "# input\n",
    "d1 = {'a': 1, 'b': 2}\n",
    "d1_1 = {'b': 21}\n",
    "d2 = {'x': 3, 9: 99}\n",
    "\n",
    "# concatenate `d1` and `d1_1`\n",
    "expected1 = {'a': 1, 'b': 21}\n",
    "\n",
    "# concatenate `d1`, `d1_1` and `d2`\n",
    "expected2 = {'a': 1, 'b': 21, 'x': 3, 9: 99}\n",
    "\n",
    "print('Running tests...')\n",
    "for fn in ALL_FUNCTIONS:\n",
    "    result1 = fn(d1, d1_1)\n",
    "    result2 = fn(d1, d1_1, d2)\n",
    "    assert expected1 == result1, ('function = {fn:s}\\n'\n",
    "                                  'expected = {expected}\\n'\n",
    "                                  'result   = {result}'\n",
    "                                  ''.format(fn=fn.__name__,\n",
    "                                            expected=expected1,\n",
    "                                            result=result1))\n",
    "    assert expected2 == result2, ('function = {fn:s}\\n'\n",
    "                                  'expected = {expected}\\n'\n",
    "                                  'result   = {result}'\n",
    "                                  ''.format(fn=fn.__name__,\n",
    "                                            expected=expected2,\n",
    "                                            result=result2))\n",
    "    print('{fn:s}: OK!'.format(fn=fn.__name__))"
   ]
  },
  {
   "cell_type": "markdown",
   "metadata": {},
   "source": [
    "# Execution time"
   ]
  },
  {
   "cell_type": "code",
   "execution_count": 5,
   "metadata": {},
   "outputs": [
    {
     "name": "stdout",
     "output_type": "stream",
     "text": [
      "concat_dicts__update\n",
      "665 ns ± 8.59 ns per loop (mean ± std. dev. of 7 runs, 1000000 loops each)\n",
      "935 ns ± 42.4 ns per loop (mean ± std. dev. of 7 runs, 1000000 loops each)\n",
      "--------------------------------------------------------------------\n",
      "concat_dicts__dict_comprehension\n",
      "930 ns ± 5.97 ns per loop (mean ± std. dev. of 7 runs, 1000000 loops each)\n",
      "1.28 µs ± 14.3 ns per loop (mean ± std. dev. of 7 runs, 1000000 loops each)\n",
      "--------------------------------------------------------------------\n",
      "concat_dicts__concat_items_chain_from_iterable\n",
      "1.74 µs ± 42.4 ns per loop (mean ± std. dev. of 7 runs, 1000000 loops each)\n",
      "2.02 µs ± 14.8 ns per loop (mean ± std. dev. of 7 runs, 100000 loops each)\n",
      "--------------------------------------------------------------------\n",
      "concat_dicts__concat_items_chain\n",
      "1.74 µs ± 22.4 ns per loop (mean ± std. dev. of 7 runs, 1000000 loops each)\n",
      "2.04 µs ± 4.4 ns per loop (mean ± std. dev. of 7 runs, 100000 loops each)\n",
      "--------------------------------------------------------------------\n",
      "concat_dicts__concat_items_sum\n",
      "2.3 µs ± 46.9 ns per loop (mean ± std. dev. of 7 runs, 100000 loops each)\n",
      "2.94 µs ± 38.9 ns per loop (mean ± std. dev. of 7 runs, 100000 loops each)\n",
      "--------------------------------------------------------------------\n",
      "concat_dicts__chainmap\n",
      "4.66 µs ± 20.2 ns per loop (mean ± std. dev. of 7 runs, 100000 loops each)\n",
      "6.46 µs ± 207 ns per loop (mean ± std. dev. of 7 runs, 100000 loops each)\n",
      "--------------------------------------------------------------------\n"
     ]
    }
   ],
   "source": [
    "t1 = []\n",
    "t2 = []\n",
    "for fn in ALL_FUNCTIONS:\n",
    "    print(fn.__name__)\n",
    "    t_fn = %timeit -o fn(d1, d1_1)\n",
    "    t1.append(t_fn.timings)\n",
    "    t_fn = %timeit -o fn(d1, d1_1, d2)\n",
    "    t2.append(t_fn.timings)\n",
    "    print('--------------------------------------------------------------------')"
   ]
  },
  {
   "cell_type": "code",
   "execution_count": 6,
   "metadata": {},
   "outputs": [
    {
     "data": {
      "text/plain": [
       "<matplotlib.text.Text at 0x7f809296ab38>"
      ]
     },
     "execution_count": 6,
     "metadata": {},
     "output_type": "execute_result"
    },
    {
     "data": {
      "image/png": "[encoded data removed]",
      "text/plain": [
       "<matplotlib.figure.Figure at 0x7f80929b9828>"
      ]
     },
     "metadata": {},
     "output_type": "display_data"
    }
   ],
   "source": [
    "# define params\n",
    "fontsize = 16\n",
    "\n",
    "# create figure\n",
    "fig, ax = plt.subplots()\n",
    "\n",
    "# plot\n",
    "ax.boxplot(t1, sym='k.')\n",
    "\n",
    "# grid\n",
    "ax.grid(True)\n",
    "\n",
    "# x-axis\n",
    "ax.set_xticklabels([f.__name__ for f in ALL_FUNCTIONS],\n",
    "                   rotation=90, fontsize=fontsize);\n",
    "\n",
    "# y-axis\n",
    "ax.ticklabel_format(style='sci', axis='y', scilimits=(0,0))\n",
    "ax.tick_params(axis='y', labelsize=fontsize)\n",
    "ax.yaxis.offsetText.set_fontsize(fontsize)  # size of the exponent\n",
    "ax.set_ylabel('Execution time (s)', fontsize=fontsize*1.2)"
   ]
  }
 ],
 "metadata": {
  "kernelspec": {
   "display_name": "Python 3",
   "language": "python",
   "name": "python3"
  },
  "language_info": {
   "codemirror_mode": {
    "name": "ipython",
    "version": 3
   },
   "file_extension": ".py",
   "mimetype": "text/x-python",
   "name": "python",
   "nbconvert_exporter": "python",
   "pygments_lexer": "ipython3",
   "version": "3.6.2"
  }
 },
 "nbformat": 4,
 "nbformat_minor": 2
}
